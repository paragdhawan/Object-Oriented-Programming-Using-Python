{
 "cells": [
  {
   "cell_type": "markdown",
   "metadata": {
    "toc": true
   },
   "source": [
    "<h1>Table of Contents<span class=\"tocSkip\"></span></h1>\n",
    "<div class=\"toc\"><ul class=\"toc-item\"><li><span><a href=\"#Creating-a-Class\" data-toc-modified-id=\"Creating-a-Class-1\"><span class=\"toc-item-num\">1&nbsp;&nbsp;</span>Creating a Class</a></span></li><li><span><a href=\"#Making-an-Instance-from-a-Class\" data-toc-modified-id=\"Making-an-Instance-from-a-Class-2\"><span class=\"toc-item-num\">2&nbsp;&nbsp;</span>Making an Instance from a Class</a></span></li><li><span><a href=\"#Accessing-Attributes\" data-toc-modified-id=\"Accessing-Attributes-3\"><span class=\"toc-item-num\">3&nbsp;&nbsp;</span>Accessing Attributes</a></span></li><li><span><a href=\"#Calling-Methods\" data-toc-modified-id=\"Calling-Methods-4\"><span class=\"toc-item-num\">4&nbsp;&nbsp;</span>Calling Methods</a></span></li><li><span><a href=\"#Creating-Multiple-Instances\" data-toc-modified-id=\"Creating-Multiple-Instances-5\"><span class=\"toc-item-num\">5&nbsp;&nbsp;</span>Creating Multiple Instances</a></span></li><li><span><a href=\"#Setting-a-Default-Value\" data-toc-modified-id=\"Setting-a-Default-Value-6\"><span class=\"toc-item-num\">6&nbsp;&nbsp;</span>Setting a Default Value</a></span></li><li><span><a href=\"#Class-variable-and-Object/Instance-Variable\" data-toc-modified-id=\"Class-variable-and-Object/Instance-Variable-7\"><span class=\"toc-item-num\">7&nbsp;&nbsp;</span>Class variable and Object/Instance Variable</a></span></li><li><span><a href=\"#Python-Class-Method-function-and-Class-Method-Decorator\" data-toc-modified-id=\"Python-Class-Method-function-and-Class-Method-Decorator-8\"><span class=\"toc-item-num\">8&nbsp;&nbsp;</span>Python Class Method function and Class Method Decorator</a></span><ul class=\"toc-item\"><li><span><a href=\"#using-classmethod-function\" data-toc-modified-id=\"using-classmethod-function-8.1\"><span class=\"toc-item-num\">8.1&nbsp;&nbsp;</span>using classmethod function</a></span></li><li><span><a href=\"#using-classmethod-decorator\" data-toc-modified-id=\"using-classmethod-decorator-8.2\"><span class=\"toc-item-num\">8.2&nbsp;&nbsp;</span>using classmethod decorator</a></span></li><li><span><a href=\"#Creating-a-static-method-using-staticmethod-function\" data-toc-modified-id=\"Creating-a-static-method-using-staticmethod-function-8.3\"><span class=\"toc-item-num\">8.3&nbsp;&nbsp;</span>Creating a static method using staticmethod function</a></span></li><li><span><a href=\"#Creating-a-Static-method-using-staticmethod-decorator\" data-toc-modified-id=\"Creating-a-Static-method-using-staticmethod-decorator-8.4\"><span class=\"toc-item-num\">8.4&nbsp;&nbsp;</span>Creating a Static method using staticmethod decorator</a></span></li></ul></li><li><span><a href=\"#Difference-between-static-method-and-class-method\" data-toc-modified-id=\"Difference-between-static-method-and-class-method-9\"><span class=\"toc-item-num\">9&nbsp;&nbsp;</span>Difference between static method and class method</a></span></li><li><span><a href=\"#Encapsulation\" data-toc-modified-id=\"Encapsulation-10\"><span class=\"toc-item-num\">10&nbsp;&nbsp;</span>Encapsulation</a></span><ul class=\"toc-item\"><li><span><a href=\"#example-one-how-to-create-private-method-and-use-it\" data-toc-modified-id=\"example-one-how-to-create-private-method-and-use-it-10.1\"><span class=\"toc-item-num\">10.1&nbsp;&nbsp;</span>example one how to create private method and use it</a></span></li><li><span><a href=\"#example-2-how-to-declare-private-variables-and-use-them\" data-toc-modified-id=\"example-2-how-to-declare-private-variables-and-use-them-10.2\"><span class=\"toc-item-num\">10.2&nbsp;&nbsp;</span>example 2 how to declare private variables and use them</a></span></li></ul></li><li><span><a href=\"#Python-Getter,-Setter,-Property-Function-and-Property-Decorator\" data-toc-modified-id=\"Python-Getter,-Setter,-Property-Function-and-Property-Decorator-11\"><span class=\"toc-item-num\">11&nbsp;&nbsp;</span>Python Getter, Setter, Property Function and Property Decorator</a></span></li><li><span><a href=\"#Inheritance\" data-toc-modified-id=\"Inheritance-12\"><span class=\"toc-item-num\">12&nbsp;&nbsp;</span>Inheritance</a></span></li><li><span><a href=\"#Method-Overriding\" data-toc-modified-id=\"Method-Overriding-13\"><span class=\"toc-item-num\">13&nbsp;&nbsp;</span>Method Overriding</a></span></li><li><span><a href=\"#Types-of-Inheritance\" data-toc-modified-id=\"Types-of-Inheritance-14\"><span class=\"toc-item-num\">14&nbsp;&nbsp;</span>Types of Inheritance</a></span><ul class=\"toc-item\"><li><span><a href=\"#Single-Inheritance\" data-toc-modified-id=\"Single-Inheritance-14.1\"><span class=\"toc-item-num\">14.1&nbsp;&nbsp;</span>Single Inheritance</a></span></li><li><span><a href=\"#Multilevel-Inheritance\" data-toc-modified-id=\"Multilevel-Inheritance-14.2\"><span class=\"toc-item-num\">14.2&nbsp;&nbsp;</span>Multilevel Inheritance</a></span></li><li><span><a href=\"#Multiple-Inheritance\" data-toc-modified-id=\"Multiple-Inheritance-14.3\"><span class=\"toc-item-num\">14.3&nbsp;&nbsp;</span>Multiple Inheritance</a></span></li><li><span><a href=\"#Hirarchical-Inheritance\" data-toc-modified-id=\"Hirarchical-Inheritance-14.4\"><span class=\"toc-item-num\">14.4&nbsp;&nbsp;</span>Hirarchical Inheritance</a></span></li><li><span><a href=\"#Hybrid-Inheritance\" data-toc-modified-id=\"Hybrid-Inheritance-14.5\"><span class=\"toc-item-num\">14.5&nbsp;&nbsp;</span>Hybrid Inheritance</a></span></li></ul></li><li><span><a href=\"#Single-Inheritance\" data-toc-modified-id=\"Single-Inheritance-15\"><span class=\"toc-item-num\">15&nbsp;&nbsp;</span>Single Inheritance</a></span></li><li><span><a href=\"#Multilevel-Inheritance\" data-toc-modified-id=\"Multilevel-Inheritance-16\"><span class=\"toc-item-num\">16&nbsp;&nbsp;</span>Multilevel Inheritance</a></span></li><li><span><a href=\"#Multiple-Inheritance\" data-toc-modified-id=\"Multiple-Inheritance-17\"><span class=\"toc-item-num\">17&nbsp;&nbsp;</span>Multiple Inheritance</a></span></li><li><span><a href=\"#Hierarchical-Inheritance\" data-toc-modified-id=\"Hierarchical-Inheritance-18\"><span class=\"toc-item-num\">18&nbsp;&nbsp;</span>Hierarchical Inheritance</a></span></li><li><span><a href=\"#Hybrid-Inheritance\" data-toc-modified-id=\"Hybrid-Inheritance-19\"><span class=\"toc-item-num\">19&nbsp;&nbsp;</span>Hybrid Inheritance</a></span><ul class=\"toc-item\"><li><span><a href=\"#Method-Resolution-Order\" data-toc-modified-id=\"Method-Resolution-Order-19.1\"><span class=\"toc-item-num\">19.1&nbsp;&nbsp;</span>Method Resolution Order</a></span></li><li><span><a href=\"#Dimond-Problem\" data-toc-modified-id=\"Dimond-Problem-19.2\"><span class=\"toc-item-num\">19.2&nbsp;&nbsp;</span>Dimond Problem</a></span></li><li><span><a href=\"#How-to-Access-Methods-of-Different-classes-in-derived-class\" data-toc-modified-id=\"How-to-Access-Methods-of-Different-classes-in-derived-class-19.3\"><span class=\"toc-item-num\">19.3&nbsp;&nbsp;</span>How to Access Methods of Different classes in derived class</a></span></li></ul></li><li><span><a href=\"#Abstraction\" data-toc-modified-id=\"Abstraction-20\"><span class=\"toc-item-num\">20&nbsp;&nbsp;</span>Abstraction</a></span></li><li><span><a href=\"#Abstract-Class\" data-toc-modified-id=\"Abstract-Class-21\"><span class=\"toc-item-num\">21&nbsp;&nbsp;</span>Abstract Class</a></span></li><li><span><a href=\"#Abstract-Method\" data-toc-modified-id=\"Abstract-Method-22\"><span class=\"toc-item-num\">22&nbsp;&nbsp;</span>Abstract Method</a></span></li><li><span><a href=\"#Polymorphism-in-Python\" data-toc-modified-id=\"Polymorphism-in-Python-23\"><span class=\"toc-item-num\">23&nbsp;&nbsp;</span>Polymorphism in Python</a></span><ul class=\"toc-item\"><li><span><a href=\"#example-:---fuction-polymorphism\" data-toc-modified-id=\"example-:---fuction-polymorphism-23.1\"><span class=\"toc-item-num\">23.1&nbsp;&nbsp;</span>example : - fuction polymorphism</a></span></li><li><span><a href=\"#example-:--operator-polymorphism\" data-toc-modified-id=\"example-:--operator-polymorphism-23.2\"><span class=\"toc-item-num\">23.2&nbsp;&nbsp;</span>example :- operator polymorphism</a></span></li><li><span><a href=\"#Example-:--polymorphism-while-inheritance-(method-overriding)\" data-toc-modified-id=\"Example-:--polymorphism-while-inheritance-(method-overriding)-23.3\"><span class=\"toc-item-num\">23.3&nbsp;&nbsp;</span>Example :- polymorphism while inheritance (method overriding)</a></span></li><li><span><a href=\"#example-:--polymorphism-with-class-Methods\" data-toc-modified-id=\"example-:--polymorphism-with-class-Methods-23.4\"><span class=\"toc-item-num\">23.4&nbsp;&nbsp;</span>example :- polymorphism with class Methods</a></span></li></ul></li></ul></div>"
   ]
  },
  {
   "cell_type": "markdown",
   "metadata": {},
   "source": [
    "[Link of Tutorial Series](https://www.youtube.com/watch?v=z_8jY2CoIJY&list=PLWkNktG0P7z8NLuyLIeWUn7B1IEcNNq_T)"
   ]
  },
  {
   "cell_type": "code",
   "execution_count": 1,
   "metadata": {},
   "outputs": [],
   "source": [
    "# 1. How to Create Classes \n",
    "# 2. How to Create object of the class\n",
    "# 3. Understand __init__\n",
    "# 4. Understand self paramerter\n",
    "# 5. Understand . member acess operator"
   ]
  },
  {
   "cell_type": "markdown",
   "metadata": {},
   "source": [
    "# Creating a Class"
   ]
  },
  {
   "cell_type": "code",
   "execution_count": 2,
   "metadata": {},
   "outputs": [],
   "source": [
    "class Employee:\n",
    "    def __init__(self,name,age,bs):\n",
    "        self.name = name\n",
    "        self.age = age\n",
    "        self.bs = bs\n",
    "    \n",
    "    def display(self):\n",
    "        print(self.name,self.age,self.bs)\n",
    "        "
   ]
  },
  {
   "cell_type": "markdown",
   "metadata": {},
   "source": [
    " # Making an Instance from a Class"
   ]
  },
  {
   "cell_type": "code",
   "execution_count": 3,
   "metadata": {},
   "outputs": [],
   "source": [
    "e1 = Employee(\"Ashwin\",25,25000)"
   ]
  },
  {
   "cell_type": "markdown",
   "metadata": {},
   "source": [
    "# Accessing Attributes"
   ]
  },
  {
   "cell_type": "code",
   "execution_count": 4,
   "metadata": {},
   "outputs": [],
   "source": [
    "e1.bs = 40000"
   ]
  },
  {
   "cell_type": "code",
   "execution_count": 5,
   "metadata": {},
   "outputs": [
    {
     "name": "stdout",
     "output_type": "stream",
     "text": [
      "40000\n"
     ]
    }
   ],
   "source": [
    "print(e1.bs)"
   ]
  },
  {
   "cell_type": "markdown",
   "metadata": {},
   "source": [
    "# Calling Methods"
   ]
  },
  {
   "cell_type": "code",
   "execution_count": 6,
   "metadata": {},
   "outputs": [
    {
     "name": "stdout",
     "output_type": "stream",
     "text": [
      "Ashwin 25 40000\n"
     ]
    }
   ],
   "source": [
    "e1.display()"
   ]
  },
  {
   "cell_type": "code",
   "execution_count": 7,
   "metadata": {},
   "outputs": [
    {
     "name": "stdout",
     "output_type": "stream",
     "text": [
      "Ashwin 25 40000\n"
     ]
    }
   ],
   "source": [
    "e1.display()"
   ]
  },
  {
   "cell_type": "markdown",
   "metadata": {},
   "source": [
    "# Creating Multiple Instances"
   ]
  },
  {
   "cell_type": "code",
   "execution_count": 8,
   "metadata": {},
   "outputs": [],
   "source": [
    "e2 = Employee(\"Rajesh\",50,1000000)"
   ]
  },
  {
   "cell_type": "code",
   "execution_count": 9,
   "metadata": {},
   "outputs": [],
   "source": [
    "e3= Employee(\"Suresh\",45,500000)"
   ]
  },
  {
   "cell_type": "code",
   "execution_count": 10,
   "metadata": {},
   "outputs": [
    {
     "data": {
      "text/plain": [
       "__main__.Employee"
      ]
     },
     "execution_count": 10,
     "metadata": {},
     "output_type": "execute_result"
    }
   ],
   "source": [
    "type(e3)"
   ]
  },
  {
   "cell_type": "code",
   "execution_count": 11,
   "metadata": {},
   "outputs": [
    {
     "name": "stdout",
     "output_type": "stream",
     "text": [
      "Rajesh 50 1000000\n"
     ]
    }
   ],
   "source": [
    "e2.display()"
   ]
  },
  {
   "cell_type": "code",
   "execution_count": 12,
   "metadata": {},
   "outputs": [
    {
     "name": "stdout",
     "output_type": "stream",
     "text": [
      "Suresh 45 500000\n"
     ]
    }
   ],
   "source": [
    "e3.display()"
   ]
  },
  {
   "cell_type": "markdown",
   "metadata": {},
   "source": [
    "# Setting a Default Value"
   ]
  },
  {
   "cell_type": "markdown",
   "metadata": {},
   "source": [
    "- How to Initialize Variables of the class with Default Values\n",
    "- Here we are initializing variables inside the class with default values."
   ]
  },
  {
   "cell_type": "code",
   "execution_count": 13,
   "metadata": {},
   "outputs": [],
   "source": [
    "class Complex:\n",
    "    def __init__(self,r=0,i=0):\n",
    "        self.real = r\n",
    "        self.img = i\n",
    "        \n",
    "    def display(self):\n",
    "        print(self.real,self.img)"
   ]
  },
  {
   "cell_type": "code",
   "execution_count": 14,
   "metadata": {},
   "outputs": [],
   "source": [
    "c1 = Complex()"
   ]
  },
  {
   "cell_type": "code",
   "execution_count": 15,
   "metadata": {},
   "outputs": [
    {
     "name": "stdout",
     "output_type": "stream",
     "text": [
      "0 0\n"
     ]
    }
   ],
   "source": [
    "c1.display()"
   ]
  },
  {
   "cell_type": "code",
   "execution_count": 16,
   "metadata": {},
   "outputs": [],
   "source": [
    "c2 = Complex(10,20)"
   ]
  },
  {
   "cell_type": "code",
   "execution_count": 17,
   "metadata": {},
   "outputs": [
    {
     "name": "stdout",
     "output_type": "stream",
     "text": [
      "10 20\n"
     ]
    }
   ],
   "source": [
    "c2.display()"
   ]
  },
  {
   "cell_type": "markdown",
   "metadata": {},
   "source": [
    "#  Class variable and Object/Instance Variable"
   ]
  },
  {
   "cell_type": "markdown",
   "metadata": {},
   "source": [
    "Class Variable and Object / Instance Variable in Python\n",
    "\n",
    "1. Class variable is created only once when the class is created.\n",
    "2. Class variable is accessed by name of the class.\n",
    "3. Class variable is shared by all the objects of the class.\n",
    "4. Object variable is created when the object is created.\n",
    "5. Object variable is unique to the object of the class.\n"
   ]
  },
  {
   "cell_type": "code",
   "execution_count": 18,
   "metadata": {},
   "outputs": [],
   "source": [
    "class emp:\n",
    "    count = 0"
   ]
  },
  {
   "cell_type": "code",
   "execution_count": 19,
   "metadata": {},
   "outputs": [],
   "source": [
    "emp.count = 20 "
   ]
  },
  {
   "cell_type": "code",
   "execution_count": 20,
   "metadata": {},
   "outputs": [
    {
     "data": {
      "text/plain": [
       "20"
      ]
     },
     "execution_count": 20,
     "metadata": {},
     "output_type": "execute_result"
    }
   ],
   "source": [
    "emp.count"
   ]
  },
  {
   "cell_type": "code",
   "execution_count": 21,
   "metadata": {},
   "outputs": [],
   "source": [
    "class Employee:\n",
    "    count = 0\n",
    "    empno = 0\n",
    "    string = \"class var\"\n",
    "    \n",
    "    def __init__(self,name):\n",
    "        self.name = name\n",
    "        Employee.count = Employee.count+1\n",
    "        Employee.empno = Employee.empno +1 "
   ]
  },
  {
   "cell_type": "code",
   "execution_count": 22,
   "metadata": {},
   "outputs": [
    {
     "data": {
      "text/plain": [
       "'class var'"
      ]
     },
     "execution_count": 22,
     "metadata": {},
     "output_type": "execute_result"
    }
   ],
   "source": [
    "Employee.string"
   ]
  },
  {
   "cell_type": "code",
   "execution_count": 23,
   "metadata": {},
   "outputs": [],
   "source": [
    "e1 = Employee(\"First\")\n",
    "e2 = Employee(\"Second\")\n",
    "e3 = Employee(\"Third\")"
   ]
  },
  {
   "cell_type": "code",
   "execution_count": 24,
   "metadata": {},
   "outputs": [
    {
     "data": {
      "text/plain": [
       "3"
      ]
     },
     "execution_count": 24,
     "metadata": {},
     "output_type": "execute_result"
    }
   ],
   "source": [
    "Employee.count"
   ]
  },
  {
   "cell_type": "code",
   "execution_count": 25,
   "metadata": {},
   "outputs": [
    {
     "data": {
      "text/plain": [
       "3"
      ]
     },
     "execution_count": 25,
     "metadata": {},
     "output_type": "execute_result"
    }
   ],
   "source": [
    "Employee.empno"
   ]
  },
  {
   "cell_type": "code",
   "execution_count": 26,
   "metadata": {},
   "outputs": [
    {
     "data": {
      "text/plain": [
       "1564088747272"
      ]
     },
     "execution_count": 26,
     "metadata": {},
     "output_type": "execute_result"
    }
   ],
   "source": [
    "id(e1)"
   ]
  },
  {
   "cell_type": "code",
   "execution_count": 27,
   "metadata": {},
   "outputs": [
    {
     "data": {
      "text/plain": [
       "1564088684232"
      ]
     },
     "execution_count": 27,
     "metadata": {},
     "output_type": "execute_result"
    }
   ],
   "source": [
    "id(e2)"
   ]
  },
  {
   "cell_type": "code",
   "execution_count": 28,
   "metadata": {},
   "outputs": [
    {
     "data": {
      "text/plain": [
       "1564088690440"
      ]
     },
     "execution_count": 28,
     "metadata": {},
     "output_type": "execute_result"
    }
   ],
   "source": [
    "id(e3)"
   ]
  },
  {
   "cell_type": "code",
   "execution_count": 29,
   "metadata": {},
   "outputs": [
    {
     "data": {
      "text/plain": [
       "'Third'"
      ]
     },
     "execution_count": 29,
     "metadata": {},
     "output_type": "execute_result"
    }
   ],
   "source": [
    "e3.name"
   ]
  },
  {
   "cell_type": "markdown",
   "metadata": {},
   "source": [
    "# Python Class Method function and Class Method Decorator"
   ]
  },
  {
   "cell_type": "markdown",
   "metadata": {},
   "source": [
    "class method change the state of the class.(cls)\n",
    "\n",
    "object/ instance method change the state of object.(self) \n",
    "\n",
    "static method cannot change the state of class or object directly."
   ]
  },
  {
   "cell_type": "markdown",
   "metadata": {},
   "source": [
    "Here we have seen how to convert a function inside a class into a class method using class method function and class method decorator.\n"
   ]
  },
  {
   "cell_type": "markdown",
   "metadata": {},
   "source": [
    "## using classmethod function"
   ]
  },
  {
   "cell_type": "code",
   "execution_count": 30,
   "metadata": {},
   "outputs": [],
   "source": [
    "class emp:\n",
    "    empno = 0\n",
    "    \n",
    "    def updateempno(cls):\n",
    "        cls.empno = cls.empno + 1\n",
    "        \n",
    "        \n",
    "emp.updateempno = classmethod(emp.updateempno)"
   ]
  },
  {
   "cell_type": "code",
   "execution_count": 31,
   "metadata": {},
   "outputs": [
    {
     "data": {
      "text/plain": [
       "0"
      ]
     },
     "execution_count": 31,
     "metadata": {},
     "output_type": "execute_result"
    }
   ],
   "source": [
    "emp.empno"
   ]
  },
  {
   "cell_type": "code",
   "execution_count": 32,
   "metadata": {},
   "outputs": [],
   "source": [
    "emp.updateempno()"
   ]
  },
  {
   "cell_type": "code",
   "execution_count": 33,
   "metadata": {},
   "outputs": [
    {
     "data": {
      "text/plain": [
       "1"
      ]
     },
     "execution_count": 33,
     "metadata": {},
     "output_type": "execute_result"
    }
   ],
   "source": [
    "emp.empno"
   ]
  },
  {
   "cell_type": "code",
   "execution_count": 34,
   "metadata": {},
   "outputs": [],
   "source": [
    "emp().updateempno()"
   ]
  },
  {
   "cell_type": "code",
   "execution_count": 35,
   "metadata": {},
   "outputs": [
    {
     "data": {
      "text/plain": [
       "2"
      ]
     },
     "execution_count": 35,
     "metadata": {},
     "output_type": "execute_result"
    }
   ],
   "source": [
    "emp.empno    "
   ]
  },
  {
   "cell_type": "markdown",
   "metadata": {},
   "source": [
    "## using classmethod decorator"
   ]
  },
  {
   "cell_type": "code",
   "execution_count": 36,
   "metadata": {},
   "outputs": [],
   "source": [
    "class emp:\n",
    "    empno = 0\n",
    "    @classmethod\n",
    "    def updateempno(cls):\n",
    "        cls.empno = cls.empno + 1"
   ]
  },
  {
   "cell_type": "code",
   "execution_count": 37,
   "metadata": {},
   "outputs": [
    {
     "data": {
      "text/plain": [
       "0"
      ]
     },
     "execution_count": 37,
     "metadata": {},
     "output_type": "execute_result"
    }
   ],
   "source": [
    "emp.empno"
   ]
  },
  {
   "cell_type": "code",
   "execution_count": 38,
   "metadata": {},
   "outputs": [],
   "source": [
    "emp.updateempno()"
   ]
  },
  {
   "cell_type": "code",
   "execution_count": 39,
   "metadata": {},
   "outputs": [
    {
     "data": {
      "text/plain": [
       "1"
      ]
     },
     "execution_count": 39,
     "metadata": {},
     "output_type": "execute_result"
    }
   ],
   "source": [
    "emp.empno"
   ]
  },
  {
   "cell_type": "code",
   "execution_count": 40,
   "metadata": {},
   "outputs": [],
   "source": [
    "emp().updateempno()"
   ]
  },
  {
   "cell_type": "code",
   "execution_count": 41,
   "metadata": {},
   "outputs": [
    {
     "data": {
      "text/plain": [
       "2"
      ]
     },
     "execution_count": 41,
     "metadata": {},
     "output_type": "execute_result"
    }
   ],
   "source": [
    "emp.empno"
   ]
  },
  {
   "cell_type": "markdown",
   "metadata": {},
   "source": [
    "## Creating a static method using staticmethod function"
   ]
  },
  {
   "cell_type": "code",
   "execution_count": 42,
   "metadata": {},
   "outputs": [],
   "source": [
    "class emp:\n",
    "    empno = 0\n",
    "    \n",
    "    def updateempno():\n",
    "        emp.empno = emp.empno + 1\n",
    "        "
   ]
  },
  {
   "cell_type": "code",
   "execution_count": 43,
   "metadata": {},
   "outputs": [],
   "source": [
    "emp.updateempno = staticmethod(emp.updateempno)"
   ]
  },
  {
   "cell_type": "code",
   "execution_count": 44,
   "metadata": {},
   "outputs": [
    {
     "data": {
      "text/plain": [
       "0"
      ]
     },
     "execution_count": 44,
     "metadata": {},
     "output_type": "execute_result"
    }
   ],
   "source": [
    "emp.empno"
   ]
  },
  {
   "cell_type": "code",
   "execution_count": 45,
   "metadata": {},
   "outputs": [],
   "source": [
    "emp.updateempno()"
   ]
  },
  {
   "cell_type": "code",
   "execution_count": 46,
   "metadata": {},
   "outputs": [
    {
     "data": {
      "text/plain": [
       "1"
      ]
     },
     "execution_count": 46,
     "metadata": {},
     "output_type": "execute_result"
    }
   ],
   "source": [
    "emp.empno"
   ]
  },
  {
   "cell_type": "code",
   "execution_count": 47,
   "metadata": {},
   "outputs": [],
   "source": [
    "emp().updateempno()"
   ]
  },
  {
   "cell_type": "code",
   "execution_count": 48,
   "metadata": {},
   "outputs": [
    {
     "data": {
      "text/plain": [
       "2"
      ]
     },
     "execution_count": 48,
     "metadata": {},
     "output_type": "execute_result"
    }
   ],
   "source": [
    "emp.empno"
   ]
  },
  {
   "cell_type": "markdown",
   "metadata": {},
   "source": [
    "##  Creating a Static method using staticmethod decorator"
   ]
  },
  {
   "cell_type": "code",
   "execution_count": 49,
   "metadata": {},
   "outputs": [],
   "source": [
    "class emp:\n",
    "    empno = 0\n",
    "    @staticmethod\n",
    "    def updateempno():\n",
    "        emp.empno = emp.empno + 1\n",
    "        "
   ]
  },
  {
   "cell_type": "code",
   "execution_count": 50,
   "metadata": {},
   "outputs": [
    {
     "data": {
      "text/plain": [
       "0"
      ]
     },
     "execution_count": 50,
     "metadata": {},
     "output_type": "execute_result"
    }
   ],
   "source": [
    "emp.empno"
   ]
  },
  {
   "cell_type": "code",
   "execution_count": 51,
   "metadata": {},
   "outputs": [],
   "source": [
    "emp.updateempno()"
   ]
  },
  {
   "cell_type": "code",
   "execution_count": 52,
   "metadata": {},
   "outputs": [
    {
     "data": {
      "text/plain": [
       "1"
      ]
     },
     "execution_count": 52,
     "metadata": {},
     "output_type": "execute_result"
    }
   ],
   "source": [
    "emp.empno"
   ]
  },
  {
   "cell_type": "code",
   "execution_count": 53,
   "metadata": {},
   "outputs": [],
   "source": [
    "emp.updateempno()"
   ]
  },
  {
   "cell_type": "code",
   "execution_count": 54,
   "metadata": {},
   "outputs": [
    {
     "data": {
      "text/plain": [
       "2"
      ]
     },
     "execution_count": 54,
     "metadata": {},
     "output_type": "execute_result"
    }
   ],
   "source": [
    "emp.empno"
   ]
  },
  {
   "cell_type": "markdown",
   "metadata": {},
   "source": [
    "# Difference between static method and class method"
   ]
  },
  {
   "cell_type": "markdown",
   "metadata": {},
   "source": [
    "Difference Between Class Method and Static Method\n",
    "Here We have seen the difference between Class Method and Static Method\n",
    "1. special parameter cls\n",
    "2. While Inheritance, the static method has to handle carefully. (a problem in the creation of derived class object)\n"
   ]
  },
  {
   "cell_type": "code",
   "execution_count": 55,
   "metadata": {},
   "outputs": [],
   "source": [
    "class student:\n",
    "    \n",
    "    def __init__(self,marks,grade):\n",
    "        self.marks = marks\n",
    "        self.grade = grade\n",
    "    \n",
    "    @classmethod\n",
    "    def clsinitialize(cls,marks,grade):\n",
    "        return (cls(marks+5,grade+'+'))\n",
    "    \n",
    "    @staticmethod\n",
    "    def staticintalize(marks,grade):\n",
    "        return(student(marks+5,grade+'+'))\n",
    "        \n",
    "class Marks(student):\n",
    "    def display(self):\n",
    "        print(f\"Marks are : {self.marks}, Grades are :{self.grade}\")"
   ]
  },
  {
   "cell_type": "code",
   "execution_count": 56,
   "metadata": {},
   "outputs": [],
   "source": [
    "M1 = Marks(70,\"A\")"
   ]
  },
  {
   "cell_type": "code",
   "execution_count": 57,
   "metadata": {},
   "outputs": [
    {
     "name": "stdout",
     "output_type": "stream",
     "text": [
      "Marks are : 70, Grades are :A\n"
     ]
    }
   ],
   "source": [
    "M1.display()"
   ]
  },
  {
   "cell_type": "code",
   "execution_count": 58,
   "metadata": {},
   "outputs": [],
   "source": [
    "M2 = Marks.clsinitialize(60,'B')"
   ]
  },
  {
   "cell_type": "code",
   "execution_count": 59,
   "metadata": {},
   "outputs": [
    {
     "name": "stdout",
     "output_type": "stream",
     "text": [
      "Marks are : 65, Grades are :B+\n"
     ]
    }
   ],
   "source": [
    "M2.display()"
   ]
  },
  {
   "cell_type": "code",
   "execution_count": 60,
   "metadata": {},
   "outputs": [],
   "source": [
    "M3 = Marks.staticintalize(60,'B')"
   ]
  },
  {
   "cell_type": "code",
   "execution_count": 61,
   "metadata": {},
   "outputs": [
    {
     "ename": "AttributeError",
     "evalue": "'student' object has no attribute 'display'",
     "output_type": "error",
     "traceback": [
      "\u001b[1;31m---------------------------------------------------------------------------\u001b[0m",
      "\u001b[1;31mAttributeError\u001b[0m                            Traceback (most recent call last)",
      "\u001b[1;32m<ipython-input-61-22782a824303>\u001b[0m in \u001b[0;36m<module>\u001b[1;34m\u001b[0m\n\u001b[1;32m----> 1\u001b[1;33m \u001b[0mM3\u001b[0m\u001b[1;33m.\u001b[0m\u001b[0mdisplay\u001b[0m\u001b[1;33m(\u001b[0m\u001b[1;33m)\u001b[0m\u001b[1;33m\u001b[0m\u001b[1;33m\u001b[0m\u001b[0m\n\u001b[0m",
      "\u001b[1;31mAttributeError\u001b[0m: 'student' object has no attribute 'display'"
     ]
    }
   ],
   "source": [
    "M3.display()"
   ]
  },
  {
   "cell_type": "code",
   "execution_count": 62,
   "metadata": {},
   "outputs": [
    {
     "data": {
      "text/plain": [
       "True"
      ]
     },
     "execution_count": 62,
     "metadata": {},
     "output_type": "execute_result"
    }
   ],
   "source": [
    "isinstance(M1,Marks)"
   ]
  },
  {
   "cell_type": "code",
   "execution_count": 63,
   "metadata": {},
   "outputs": [
    {
     "data": {
      "text/plain": [
       "True"
      ]
     },
     "execution_count": 63,
     "metadata": {},
     "output_type": "execute_result"
    }
   ],
   "source": [
    "isinstance(M2,Marks)"
   ]
  },
  {
   "cell_type": "code",
   "execution_count": 64,
   "metadata": {},
   "outputs": [
    {
     "data": {
      "text/plain": [
       "False"
      ]
     },
     "execution_count": 64,
     "metadata": {},
     "output_type": "execute_result"
    }
   ],
   "source": [
    "isinstance(M3,Marks)"
   ]
  },
  {
   "cell_type": "code",
   "execution_count": 65,
   "metadata": {},
   "outputs": [
    {
     "data": {
      "text/plain": [
       "True"
      ]
     },
     "execution_count": 65,
     "metadata": {},
     "output_type": "execute_result"
    }
   ],
   "source": [
    "isinstance(M3,student)"
   ]
  },
  {
   "cell_type": "markdown",
   "metadata": {},
   "source": [
    "# Encapsulation"
   ]
  },
  {
   "cell_type": "markdown",
   "metadata": {},
   "source": [
    "- Also known as information hiding.\n",
    "- only function within the class can access the varibles of the class.\n",
    "- No other external function can access the varibles and functions of the class.\n",
    "- These is achived by access modifiers  __ (private)\n",
    "- private members can be accesssed inside the class only,\n",
    "ouside the class they are inaccesible."
   ]
  },
  {
   "cell_type": "markdown",
   "metadata": {},
   "source": [
    "## example one how to create private method and use it"
   ]
  },
  {
   "cell_type": "code",
   "execution_count": 66,
   "metadata": {},
   "outputs": [],
   "source": [
    "class Encap1:\n",
    "    def __init__(self):\n",
    "        self.__display()\n",
    "    \n",
    "    def __display(self):\n",
    "        print(\"private method\")\n",
    "        \n",
    "    def show(self):\n",
    "        print(\"Public method\")"
   ]
  },
  {
   "cell_type": "code",
   "execution_count": 67,
   "metadata": {},
   "outputs": [
    {
     "name": "stdout",
     "output_type": "stream",
     "text": [
      "private method\n"
     ]
    }
   ],
   "source": [
    "e1 = Encap1()"
   ]
  },
  {
   "cell_type": "code",
   "execution_count": 68,
   "metadata": {},
   "outputs": [
    {
     "ename": "AttributeError",
     "evalue": "'Encap1' object has no attribute '__display'",
     "output_type": "error",
     "traceback": [
      "\u001b[1;31m---------------------------------------------------------------------------\u001b[0m",
      "\u001b[1;31mAttributeError\u001b[0m                            Traceback (most recent call last)",
      "\u001b[1;32m<ipython-input-68-8b6beb0b8882>\u001b[0m in \u001b[0;36m<module>\u001b[1;34m\u001b[0m\n\u001b[1;32m----> 1\u001b[1;33m \u001b[0me1\u001b[0m\u001b[1;33m.\u001b[0m\u001b[0m__display\u001b[0m\u001b[1;33m(\u001b[0m\u001b[1;33m)\u001b[0m\u001b[1;33m\u001b[0m\u001b[1;33m\u001b[0m\u001b[0m\n\u001b[0m",
      "\u001b[1;31mAttributeError\u001b[0m: 'Encap1' object has no attribute '__display'"
     ]
    }
   ],
   "source": [
    "e1.__display()"
   ]
  },
  {
   "cell_type": "code",
   "execution_count": 69,
   "metadata": {},
   "outputs": [
    {
     "name": "stdout",
     "output_type": "stream",
     "text": [
      "Public method\n"
     ]
    }
   ],
   "source": [
    "e1.show()"
   ]
  },
  {
   "cell_type": "markdown",
   "metadata": {},
   "source": [
    "## example 2 how to declare private variables and use them"
   ]
  },
  {
   "cell_type": "code",
   "execution_count": 70,
   "metadata": {},
   "outputs": [],
   "source": [
    "class account:\n",
    "    def __init__(self):\n",
    "        self.__balance = 0\n",
    "        \n",
    "    def deposite(self,amount):\n",
    "        self.__balance = self.__balance + amount\n",
    "        \n",
    "    def withdraw(self,amount):\n",
    "        if self.__balance - amount > 0 :\n",
    "            self.__balance = self.__balance - amount\n",
    "    \n",
    "    def display(self):\n",
    "        print(f\"Your balance is {self.__balance}\")"
   ]
  },
  {
   "cell_type": "code",
   "execution_count": 71,
   "metadata": {},
   "outputs": [],
   "source": [
    "a1 = account()"
   ]
  },
  {
   "cell_type": "code",
   "execution_count": 72,
   "metadata": {},
   "outputs": [
    {
     "name": "stdout",
     "output_type": "stream",
     "text": [
      "Your balance is 0\n"
     ]
    }
   ],
   "source": [
    "a1.display()"
   ]
  },
  {
   "cell_type": "code",
   "execution_count": 73,
   "metadata": {},
   "outputs": [],
   "source": [
    "a1.deposite(1000)"
   ]
  },
  {
   "cell_type": "code",
   "execution_count": 74,
   "metadata": {},
   "outputs": [
    {
     "name": "stdout",
     "output_type": "stream",
     "text": [
      "Your balance is 1000\n"
     ]
    }
   ],
   "source": [
    "a1.display()"
   ]
  },
  {
   "cell_type": "code",
   "execution_count": 75,
   "metadata": {},
   "outputs": [],
   "source": [
    "a1.withdraw(500)"
   ]
  },
  {
   "cell_type": "code",
   "execution_count": 76,
   "metadata": {},
   "outputs": [
    {
     "name": "stdout",
     "output_type": "stream",
     "text": [
      "Your balance is 500\n"
     ]
    }
   ],
   "source": [
    "a1.display()"
   ]
  },
  {
   "cell_type": "code",
   "execution_count": 77,
   "metadata": {},
   "outputs": [
    {
     "ename": "AttributeError",
     "evalue": "'account' object has no attribute '__balance'",
     "output_type": "error",
     "traceback": [
      "\u001b[1;31m---------------------------------------------------------------------------\u001b[0m",
      "\u001b[1;31mAttributeError\u001b[0m                            Traceback (most recent call last)",
      "\u001b[1;32m<ipython-input-77-7fe5bff644e7>\u001b[0m in \u001b[0;36m<module>\u001b[1;34m\u001b[0m\n\u001b[1;32m----> 1\u001b[1;33m \u001b[0ma1\u001b[0m\u001b[1;33m.\u001b[0m\u001b[0m__balance\u001b[0m\u001b[1;33m\u001b[0m\u001b[1;33m\u001b[0m\u001b[0m\n\u001b[0m",
      "\u001b[1;31mAttributeError\u001b[0m: 'account' object has no attribute '__balance'"
     ]
    }
   ],
   "source": [
    "a1.__balance"
   ]
  },
  {
   "cell_type": "markdown",
   "metadata": {},
   "source": [
    "# Python Getter, Setter, Property Function and Property Decorator"
   ]
  },
  {
   "cell_type": "markdown",
   "metadata": {},
   "source": [
    "1. getter and setter Methods\n",
    "2. property function and property object \n",
    "3. @property Decorator"
   ]
  },
  {
   "cell_type": "code",
   "execution_count": 78,
   "metadata": {},
   "outputs": [],
   "source": [
    "# 1. Achiveing encapsulation using setter and getter method\n",
    "\n",
    "class Complex:\n",
    "    def __init__(self,x,y ):\n",
    "        self.__real = x \n",
    "        self.__img = y\n",
    "        \n",
    "    def getreal(self):\n",
    "        return(self.__real)\n",
    "    \n",
    "    def setreal(self,x):\n",
    "        self.__real = x    "
   ]
  },
  {
   "cell_type": "code",
   "execution_count": 79,
   "metadata": {},
   "outputs": [],
   "source": [
    "objc1 = Complex(10,20)"
   ]
  },
  {
   "cell_type": "code",
   "execution_count": 80,
   "metadata": {},
   "outputs": [
    {
     "data": {
      "text/plain": [
       "10"
      ]
     },
     "execution_count": 80,
     "metadata": {},
     "output_type": "execute_result"
    }
   ],
   "source": [
    "objc1.getreal()"
   ]
  },
  {
   "cell_type": "code",
   "execution_count": 81,
   "metadata": {},
   "outputs": [],
   "source": [
    "objc1.setreal(100)"
   ]
  },
  {
   "cell_type": "code",
   "execution_count": 82,
   "metadata": {},
   "outputs": [
    {
     "data": {
      "text/plain": [
       "100"
      ]
     },
     "execution_count": 82,
     "metadata": {},
     "output_type": "execute_result"
    }
   ],
   "source": [
    "objc1.getreal()"
   ]
  },
  {
   "cell_type": "code",
   "execution_count": 83,
   "metadata": {},
   "outputs": [
    {
     "ename": "AttributeError",
     "evalue": "'Complex' object has no attribute '__real'",
     "output_type": "error",
     "traceback": [
      "\u001b[1;31m---------------------------------------------------------------------------\u001b[0m",
      "\u001b[1;31mAttributeError\u001b[0m                            Traceback (most recent call last)",
      "\u001b[1;32m<ipython-input-83-c10be6b1e438>\u001b[0m in \u001b[0;36m<module>\u001b[1;34m\u001b[0m\n\u001b[1;32m----> 1\u001b[1;33m \u001b[0mobjc1\u001b[0m\u001b[1;33m.\u001b[0m\u001b[0m__real\u001b[0m\u001b[1;33m\u001b[0m\u001b[1;33m\u001b[0m\u001b[0m\n\u001b[0m",
      "\u001b[1;31mAttributeError\u001b[0m: 'Complex' object has no attribute '__real'"
     ]
    }
   ],
   "source": [
    "objc1.__real"
   ]
  },
  {
   "cell_type": "markdown",
   "metadata": {},
   "source": [
    "- property object to achive getter and setter\n",
    "- property object has three methods getter setter and deleter\n",
    "- property function in python has four arguments property(fget=None, fset=None, fdel=None, doc=None)"
   ]
  },
  {
   "cell_type": "code",
   "execution_count": 84,
   "metadata": {},
   "outputs": [],
   "source": [
    "#2 property function and property object\n",
    "\n",
    "class Complex:\n",
    "    def __init__(self,x,y ):\n",
    "        self.__real = x \n",
    "        self.__img = y\n",
    "        \n",
    "    def getreal(self):\n",
    "        return(self.__real)\n",
    "    \n",
    "    def setreal(self,x):\n",
    "        self.__real = x   \n",
    "        \n",
    "    real = property(getreal,setreal)"
   ]
  },
  {
   "cell_type": "code",
   "execution_count": 85,
   "metadata": {},
   "outputs": [],
   "source": [
    "objc2 = Complex(30,40)"
   ]
  },
  {
   "cell_type": "code",
   "execution_count": 86,
   "metadata": {},
   "outputs": [
    {
     "data": {
      "text/plain": [
       "30"
      ]
     },
     "execution_count": 86,
     "metadata": {},
     "output_type": "execute_result"
    }
   ],
   "source": [
    "objc2.real"
   ]
  },
  {
   "cell_type": "code",
   "execution_count": 87,
   "metadata": {},
   "outputs": [],
   "source": [
    "objc2.real = 200"
   ]
  },
  {
   "cell_type": "code",
   "execution_count": 88,
   "metadata": {},
   "outputs": [
    {
     "data": {
      "text/plain": [
       "200"
      ]
     },
     "execution_count": 88,
     "metadata": {},
     "output_type": "execute_result"
    }
   ],
   "source": [
    "objc2.real"
   ]
  },
  {
   "cell_type": "code",
   "execution_count": 89,
   "metadata": {},
   "outputs": [],
   "source": [
    "# 3. Achiveing encapsulation using property Decorator\n",
    "\n",
    "class Complex:\n",
    "    def __init__(self,x,y ):\n",
    "        self.__real = x \n",
    "        self.__img = y\n",
    "    \n",
    "    @property\n",
    "    def real1(self):\n",
    "        return(self.__real)\n",
    "    \n",
    "    @real1.setter\n",
    "    def real1(self,x):\n",
    "        self.__real = x   "
   ]
  },
  {
   "cell_type": "code",
   "execution_count": 90,
   "metadata": {},
   "outputs": [],
   "source": [
    "objc3 = Complex(30,40)"
   ]
  },
  {
   "cell_type": "code",
   "execution_count": 91,
   "metadata": {},
   "outputs": [
    {
     "data": {
      "text/plain": [
       "30"
      ]
     },
     "execution_count": 91,
     "metadata": {},
     "output_type": "execute_result"
    }
   ],
   "source": [
    "objc3.real1"
   ]
  },
  {
   "cell_type": "code",
   "execution_count": 92,
   "metadata": {},
   "outputs": [],
   "source": [
    "objc3.real1 = 300"
   ]
  },
  {
   "cell_type": "code",
   "execution_count": 93,
   "metadata": {},
   "outputs": [
    {
     "data": {
      "text/plain": [
       "300"
      ]
     },
     "execution_count": 93,
     "metadata": {},
     "output_type": "execute_result"
    }
   ],
   "source": [
    "objc3.real1"
   ]
  },
  {
   "cell_type": "code",
   "execution_count": 94,
   "metadata": {},
   "outputs": [
    {
     "ename": "AttributeError",
     "evalue": "'Complex' object has no attribute 'real'",
     "output_type": "error",
     "traceback": [
      "\u001b[1;31m---------------------------------------------------------------------------\u001b[0m",
      "\u001b[1;31mAttributeError\u001b[0m                            Traceback (most recent call last)",
      "\u001b[1;32m<ipython-input-94-5a5b50cb0bcf>\u001b[0m in \u001b[0;36m<module>\u001b[1;34m\u001b[0m\n\u001b[1;32m----> 1\u001b[1;33m \u001b[0mobjc3\u001b[0m\u001b[1;33m.\u001b[0m\u001b[0mreal\u001b[0m\u001b[1;33m\u001b[0m\u001b[1;33m\u001b[0m\u001b[0m\n\u001b[0m",
      "\u001b[1;31mAttributeError\u001b[0m: 'Complex' object has no attribute 'real'"
     ]
    }
   ],
   "source": [
    "objc3.real "
   ]
  },
  {
   "cell_type": "markdown",
   "metadata": {},
   "source": [
    "# Inheritance"
   ]
  },
  {
   "cell_type": "markdown",
   "metadata": {},
   "source": [
    "- using inheritance we achieve code reusability.\n",
    "- in inheritance and methods of the base class/ super class/ parent class is inherited in child derived class class, subclass are child class."
   ]
  },
  {
   "cell_type": "code",
   "execution_count": 95,
   "metadata": {},
   "outputs": [],
   "source": [
    "class base:\n",
    "    def __init__(self,a,b):\n",
    "        self.a = a\n",
    "        self.b = b\n",
    "    \n",
    "    def display(self):\n",
    "        print(f\"data members are {self.a} {self.b}\")"
   ]
  },
  {
   "cell_type": "code",
   "execution_count": 96,
   "metadata": {},
   "outputs": [],
   "source": [
    "b1 = base(10,20)"
   ]
  },
  {
   "cell_type": "code",
   "execution_count": 97,
   "metadata": {},
   "outputs": [
    {
     "data": {
      "text/plain": [
       "['__class__',\n",
       " '__delattr__',\n",
       " '__dict__',\n",
       " '__dir__',\n",
       " '__doc__',\n",
       " '__eq__',\n",
       " '__format__',\n",
       " '__ge__',\n",
       " '__getattribute__',\n",
       " '__gt__',\n",
       " '__hash__',\n",
       " '__init__',\n",
       " '__init_subclass__',\n",
       " '__le__',\n",
       " '__lt__',\n",
       " '__module__',\n",
       " '__ne__',\n",
       " '__new__',\n",
       " '__reduce__',\n",
       " '__reduce_ex__',\n",
       " '__repr__',\n",
       " '__setattr__',\n",
       " '__sizeof__',\n",
       " '__str__',\n",
       " '__subclasshook__',\n",
       " '__weakref__',\n",
       " 'a',\n",
       " 'b',\n",
       " 'display']"
      ]
     },
     "execution_count": 97,
     "metadata": {},
     "output_type": "execute_result"
    }
   ],
   "source": [
    "dir(b1)"
   ]
  },
  {
   "cell_type": "code",
   "execution_count": 98,
   "metadata": {},
   "outputs": [
    {
     "name": "stdout",
     "output_type": "stream",
     "text": [
      "data members are 10 20\n"
     ]
    }
   ],
   "source": [
    "b1.display()"
   ]
  },
  {
   "cell_type": "code",
   "execution_count": 99,
   "metadata": {},
   "outputs": [],
   "source": [
    "class derived(base):\n",
    "    pass"
   ]
  },
  {
   "cell_type": "code",
   "execution_count": 100,
   "metadata": {},
   "outputs": [],
   "source": [
    "d1 = derived(100,200)"
   ]
  },
  {
   "cell_type": "code",
   "execution_count": 101,
   "metadata": {},
   "outputs": [
    {
     "name": "stdout",
     "output_type": "stream",
     "text": [
      "data members are 100 200\n"
     ]
    }
   ],
   "source": [
    "d1.display()"
   ]
  },
  {
   "cell_type": "code",
   "execution_count": 102,
   "metadata": {},
   "outputs": [
    {
     "data": {
      "text/plain": [
       "['__class__',\n",
       " '__delattr__',\n",
       " '__dict__',\n",
       " '__dir__',\n",
       " '__doc__',\n",
       " '__eq__',\n",
       " '__format__',\n",
       " '__ge__',\n",
       " '__getattribute__',\n",
       " '__gt__',\n",
       " '__hash__',\n",
       " '__init__',\n",
       " '__init_subclass__',\n",
       " '__le__',\n",
       " '__lt__',\n",
       " '__module__',\n",
       " '__ne__',\n",
       " '__new__',\n",
       " '__reduce__',\n",
       " '__reduce_ex__',\n",
       " '__repr__',\n",
       " '__setattr__',\n",
       " '__sizeof__',\n",
       " '__str__',\n",
       " '__subclasshook__',\n",
       " '__weakref__',\n",
       " 'a',\n",
       " 'b',\n",
       " 'display']"
      ]
     },
     "execution_count": 102,
     "metadata": {},
     "output_type": "execute_result"
    }
   ],
   "source": [
    "dir(d1)"
   ]
  },
  {
   "cell_type": "code",
   "execution_count": 103,
   "metadata": {},
   "outputs": [],
   "source": [
    "class derived(base):\n",
    "    def __init__(self,a,b,c,d):\n",
    "        base.__init__(self,a,b)\n",
    "        self.c = c\n",
    "        self.d = d \n",
    "        \n",
    "    def show(self):\n",
    "        self.display()\n",
    "        print(f\" ,{self.c} and {self.d}\")\n",
    "        "
   ]
  },
  {
   "cell_type": "code",
   "execution_count": 104,
   "metadata": {},
   "outputs": [],
   "source": [
    "d1 = derived(1,2,3,4)"
   ]
  },
  {
   "cell_type": "code",
   "execution_count": 105,
   "metadata": {},
   "outputs": [
    {
     "name": "stdout",
     "output_type": "stream",
     "text": [
      "data members are 1 2\n"
     ]
    }
   ],
   "source": [
    "d1.display()"
   ]
  },
  {
   "cell_type": "code",
   "execution_count": 106,
   "metadata": {},
   "outputs": [
    {
     "name": "stdout",
     "output_type": "stream",
     "text": [
      "data members are 1 2\n",
      " ,3 and 4\n"
     ]
    }
   ],
   "source": [
    "d1.show()"
   ]
  },
  {
   "cell_type": "code",
   "execution_count": 107,
   "metadata": {},
   "outputs": [
    {
     "data": {
      "text/plain": [
       "['__class__',\n",
       " '__delattr__',\n",
       " '__dict__',\n",
       " '__dir__',\n",
       " '__doc__',\n",
       " '__eq__',\n",
       " '__format__',\n",
       " '__ge__',\n",
       " '__getattribute__',\n",
       " '__gt__',\n",
       " '__hash__',\n",
       " '__init__',\n",
       " '__init_subclass__',\n",
       " '__le__',\n",
       " '__lt__',\n",
       " '__module__',\n",
       " '__ne__',\n",
       " '__new__',\n",
       " '__reduce__',\n",
       " '__reduce_ex__',\n",
       " '__repr__',\n",
       " '__setattr__',\n",
       " '__sizeof__',\n",
       " '__str__',\n",
       " '__subclasshook__',\n",
       " '__weakref__',\n",
       " 'a',\n",
       " 'b',\n",
       " 'c',\n",
       " 'd',\n",
       " 'display',\n",
       " 'show']"
      ]
     },
     "execution_count": 107,
     "metadata": {},
     "output_type": "execute_result"
    }
   ],
   "source": [
    "dir(d1)"
   ]
  },
  {
   "cell_type": "code",
   "execution_count": 108,
   "metadata": {},
   "outputs": [],
   "source": [
    "class derived(base):\n",
    "    def __init__(self,a,b,c,d):\n",
    "        super().__init__(a,b)\n",
    "        self.c = c\n",
    "        self.d = d \n",
    "        \n",
    "    def show(self):\n",
    "        self.display()\n",
    "        print(f\" {self.c} and {self.d}\")"
   ]
  },
  {
   "cell_type": "code",
   "execution_count": 109,
   "metadata": {},
   "outputs": [],
   "source": [
    "d2 = derived(4,5,6,7)"
   ]
  },
  {
   "cell_type": "code",
   "execution_count": 110,
   "metadata": {},
   "outputs": [
    {
     "name": "stdout",
     "output_type": "stream",
     "text": [
      "data members are 4 5\n"
     ]
    }
   ],
   "source": [
    "d2. display()"
   ]
  },
  {
   "cell_type": "code",
   "execution_count": 111,
   "metadata": {},
   "outputs": [
    {
     "name": "stdout",
     "output_type": "stream",
     "text": [
      "data members are 4 5\n",
      " 6 and 7\n"
     ]
    }
   ],
   "source": [
    "d2. show()"
   ]
  },
  {
   "cell_type": "code",
   "execution_count": 112,
   "metadata": {},
   "outputs": [
    {
     "data": {
      "text/plain": [
       "['__class__',\n",
       " '__delattr__',\n",
       " '__dict__',\n",
       " '__dir__',\n",
       " '__doc__',\n",
       " '__eq__',\n",
       " '__format__',\n",
       " '__ge__',\n",
       " '__getattribute__',\n",
       " '__gt__',\n",
       " '__hash__',\n",
       " '__init__',\n",
       " '__init_subclass__',\n",
       " '__le__',\n",
       " '__lt__',\n",
       " '__module__',\n",
       " '__ne__',\n",
       " '__new__',\n",
       " '__reduce__',\n",
       " '__reduce_ex__',\n",
       " '__repr__',\n",
       " '__setattr__',\n",
       " '__sizeof__',\n",
       " '__str__',\n",
       " '__subclasshook__',\n",
       " '__weakref__',\n",
       " 'a',\n",
       " 'b',\n",
       " 'c',\n",
       " 'd',\n",
       " 'display',\n",
       " 'show']"
      ]
     },
     "execution_count": 112,
     "metadata": {},
     "output_type": "execute_result"
    }
   ],
   "source": [
    "dir(d2)"
   ]
  },
  {
   "cell_type": "markdown",
   "metadata": {},
   "source": [
    "# Method Overriding "
   ]
  },
  {
   "cell_type": "markdown",
   "metadata": {},
   "source": [
    "- Method with the same name in the base class as well as derived class\n",
    "- Method which is written last is given preference first i.e the derived class method will be executed over the base class method."
   ]
  },
  {
   "cell_type": "code",
   "execution_count": 113,
   "metadata": {},
   "outputs": [],
   "source": [
    "class base:\n",
    "    def __init__(self,a,b):\n",
    "        self.a = a\n",
    "        self.b = b\n",
    "    \n",
    "    def display(self):\n",
    "        print(f\"data members are {self.a} {self.b}\")"
   ]
  },
  {
   "cell_type": "code",
   "execution_count": 114,
   "metadata": {},
   "outputs": [],
   "source": [
    "class derived(base):\n",
    "    def __init__(self,a,b,c,d):\n",
    "        super().__init__(a,b)\n",
    "        self.c = c\n",
    "        self.d = d \n",
    "        \n",
    "    def display(self):\n",
    "        print(f\"data members are {self.a},{self.b},{self.c},{self.d}\")"
   ]
  },
  {
   "cell_type": "code",
   "execution_count": 115,
   "metadata": {},
   "outputs": [],
   "source": [
    "dobj = derived(10,20,30,40)"
   ]
  },
  {
   "cell_type": "code",
   "execution_count": 116,
   "metadata": {},
   "outputs": [
    {
     "name": "stdout",
     "output_type": "stream",
     "text": [
      "data members are 10,20,30,40\n"
     ]
    }
   ],
   "source": [
    "dobj.display()"
   ]
  },
  {
   "cell_type": "code",
   "execution_count": 117,
   "metadata": {},
   "outputs": [
    {
     "data": {
      "text/plain": [
       "['__class__',\n",
       " '__delattr__',\n",
       " '__dict__',\n",
       " '__dir__',\n",
       " '__doc__',\n",
       " '__eq__',\n",
       " '__format__',\n",
       " '__ge__',\n",
       " '__getattribute__',\n",
       " '__gt__',\n",
       " '__hash__',\n",
       " '__init__',\n",
       " '__init_subclass__',\n",
       " '__le__',\n",
       " '__lt__',\n",
       " '__module__',\n",
       " '__ne__',\n",
       " '__new__',\n",
       " '__reduce__',\n",
       " '__reduce_ex__',\n",
       " '__repr__',\n",
       " '__setattr__',\n",
       " '__sizeof__',\n",
       " '__str__',\n",
       " '__subclasshook__',\n",
       " '__weakref__',\n",
       " 'a',\n",
       " 'b',\n",
       " 'c',\n",
       " 'd',\n",
       " 'display']"
      ]
     },
     "execution_count": 117,
     "metadata": {},
     "output_type": "execute_result"
    }
   ],
   "source": [
    "dir(dobj)"
   ]
  },
  {
   "cell_type": "markdown",
   "metadata": {},
   "source": [
    "# Types of Inheritance"
   ]
  },
  {
   "cell_type": "markdown",
   "metadata": {},
   "source": [
    "## Single Inheritance"
   ]
  },
  {
   "cell_type": "markdown",
   "metadata": {},
   "source": [
    "![](1.png)"
   ]
  },
  {
   "cell_type": "markdown",
   "metadata": {},
   "source": [
    "## Multilevel Inheritance"
   ]
  },
  {
   "cell_type": "markdown",
   "metadata": {},
   "source": [
    "![](2.png)"
   ]
  },
  {
   "cell_type": "markdown",
   "metadata": {},
   "source": [
    "## Multiple Inheritance"
   ]
  },
  {
   "cell_type": "markdown",
   "metadata": {},
   "source": [
    "![](5.png)"
   ]
  },
  {
   "cell_type": "markdown",
   "metadata": {},
   "source": [
    "## Hirarchical Inheritance"
   ]
  },
  {
   "cell_type": "markdown",
   "metadata": {},
   "source": [
    "![](3.png)"
   ]
  },
  {
   "cell_type": "markdown",
   "metadata": {},
   "source": [
    "## Hybrid Inheritance"
   ]
  },
  {
   "cell_type": "markdown",
   "metadata": {},
   "source": [
    "![](4.png)"
   ]
  },
  {
   "cell_type": "markdown",
   "metadata": {},
   "source": [
    "# Single Inheritance"
   ]
  },
  {
   "cell_type": "markdown",
   "metadata": {},
   "source": [
    "In python single inheritance, a derived class is derived only from a single parent class and allows class to derive behaviour and properties from a single base class. Thus enables code reusability of parent class and adding new features to a class makes code more readable, elegant and less redundant."
   ]
  },
  {
   "cell_type": "markdown",
   "metadata": {},
   "source": [
    "![](1.png)"
   ]
  },
  {
   "cell_type": "code",
   "execution_count": 118,
   "metadata": {},
   "outputs": [],
   "source": [
    "class person:\n",
    "    def __init__(self,name,age):\n",
    "        self.name = name\n",
    "        self.age = age\n",
    "        \n",
    "    def display(self):\n",
    "        print(self.name,self.age)\n",
    "\n",
    "class employee(person):\n",
    "    def __init__(self,name,age,bs,empno):\n",
    "        super().__init__(name,age)\n",
    "        self.bs = bs\n",
    "        self.empno = empno\n",
    "        \n",
    "    def show(self):\n",
    "        print(self.name,self.age,self.bs,self.empno)"
   ]
  },
  {
   "cell_type": "code",
   "execution_count": 119,
   "metadata": {},
   "outputs": [],
   "source": [
    "e1 = employee(\"Arjun\",25,10000,1)"
   ]
  },
  {
   "cell_type": "code",
   "execution_count": 120,
   "metadata": {},
   "outputs": [
    {
     "name": "stdout",
     "output_type": "stream",
     "text": [
      "Arjun 25 10000 1\n"
     ]
    }
   ],
   "source": [
    "e1.show()"
   ]
  },
  {
   "cell_type": "code",
   "execution_count": 121,
   "metadata": {},
   "outputs": [
    {
     "name": "stdout",
     "output_type": "stream",
     "text": [
      "Arjun 25\n"
     ]
    }
   ],
   "source": [
    "e1.display()"
   ]
  },
  {
   "cell_type": "markdown",
   "metadata": {},
   "source": [
    "# Multilevel Inheritance "
   ]
  },
  {
   "cell_type": "markdown",
   "metadata": {},
   "source": [
    "Multilevel inheritance refers to a mechanism in object oriented technology where one can inherit from a derived class, thereby making this derived class the base class for the new class. "
   ]
  },
  {
   "cell_type": "markdown",
   "metadata": {},
   "source": [
    "![](2.png)"
   ]
  },
  {
   "cell_type": "code",
   "execution_count": 122,
   "metadata": {},
   "outputs": [],
   "source": [
    "class Student:\n",
    "    def __init__(self,r,n):\n",
    "        self._rollno = r\n",
    "        self._name = n\n",
    "        \n",
    "    def sdisplay(self):\n",
    "        print(self._rollno,self._name)\n",
    "\n",
    "class Marks(Student):\n",
    "    def __init__(self,r,n,m1,m2,m3):\n",
    "        super().__init__(r,n)\n",
    "        self._m1 = m1\n",
    "        self._m2 = m2\n",
    "        self._m3 = m3\n",
    "        \n",
    "    def mdisplay(self):\n",
    "        print(\"Marks of three subjects are: \")\n",
    "        print(self._m1,self._m2,self._m3)\n",
    "\n",
    "class Result(Marks):\n",
    "    Total = 0\n",
    "    def __init__(self,r,n,m1,m2,m3,sm):\n",
    "        super().__init__(r,n,m1,m2,m3)\n",
    "        self._sm =sm\n",
    "        \n",
    "    def rdispaly(self):\n",
    "        print(\"sport marks are :\")\n",
    "        print(self._sm)\n",
    "        Total = self._m1+self._m2+self._m3+self._sm\n",
    "        print(f'Total marks are: {Total}')\n",
    "        "
   ]
  },
  {
   "cell_type": "code",
   "execution_count": 123,
   "metadata": {},
   "outputs": [],
   "source": [
    "r1 = Result(1,\"parag\",70,80,90,15)"
   ]
  },
  {
   "cell_type": "code",
   "execution_count": 124,
   "metadata": {},
   "outputs": [
    {
     "name": "stdout",
     "output_type": "stream",
     "text": [
      "1 parag\n"
     ]
    }
   ],
   "source": [
    "r1.sdisplay()"
   ]
  },
  {
   "cell_type": "code",
   "execution_count": 125,
   "metadata": {},
   "outputs": [
    {
     "name": "stdout",
     "output_type": "stream",
     "text": [
      "Marks of three subjects are: \n",
      "70 80 90\n"
     ]
    }
   ],
   "source": [
    "r1.mdisplay()"
   ]
  },
  {
   "cell_type": "code",
   "execution_count": 126,
   "metadata": {},
   "outputs": [
    {
     "name": "stdout",
     "output_type": "stream",
     "text": [
      "sport marks are :\n",
      "15\n",
      "Total marks are: 255\n"
     ]
    }
   ],
   "source": [
    "r1.rdispaly() "
   ]
  },
  {
   "cell_type": "code",
   "execution_count": 127,
   "metadata": {},
   "outputs": [
    {
     "data": {
      "text/plain": [
       "['Total',\n",
       " '__class__',\n",
       " '__delattr__',\n",
       " '__dict__',\n",
       " '__dir__',\n",
       " '__doc__',\n",
       " '__eq__',\n",
       " '__format__',\n",
       " '__ge__',\n",
       " '__getattribute__',\n",
       " '__gt__',\n",
       " '__hash__',\n",
       " '__init__',\n",
       " '__init_subclass__',\n",
       " '__le__',\n",
       " '__lt__',\n",
       " '__module__',\n",
       " '__ne__',\n",
       " '__new__',\n",
       " '__reduce__',\n",
       " '__reduce_ex__',\n",
       " '__repr__',\n",
       " '__setattr__',\n",
       " '__sizeof__',\n",
       " '__str__',\n",
       " '__subclasshook__',\n",
       " '__weakref__',\n",
       " '_m1',\n",
       " '_m2',\n",
       " '_m3',\n",
       " '_name',\n",
       " '_rollno',\n",
       " '_sm',\n",
       " 'mdisplay',\n",
       " 'rdispaly',\n",
       " 'sdisplay']"
      ]
     },
     "execution_count": 127,
     "metadata": {},
     "output_type": "execute_result"
    }
   ],
   "source": [
    "dir(r1)"
   ]
  },
  {
   "cell_type": "markdown",
   "metadata": {},
   "source": [
    "# Multiple Inheritance"
   ]
  },
  {
   "cell_type": "markdown",
   "metadata": {},
   "source": [
    "A class can be derived from more than one base class. This is called multiple inheritance."
   ]
  },
  {
   "cell_type": "markdown",
   "metadata": {},
   "source": [
    "In multiple inheritance, the features of all the base classes are inherited into the derived class."
   ]
  },
  {
   "cell_type": "markdown",
   "metadata": {},
   "source": [
    "![](5.png)"
   ]
  },
  {
   "cell_type": "code",
   "execution_count": 128,
   "metadata": {},
   "outputs": [],
   "source": [
    "class Student:\n",
    "    def __init__(self,r,n):\n",
    "        self._rollno = r\n",
    "        self._name = n\n",
    "          \n",
    "    def sdisplay(self):\n",
    "        print(self._rollno,self._name)\n",
    "\n",
    "class Marks:\n",
    "    def __init__(self,m1,m2,m3):\n",
    "        self._m1 = m1\n",
    "        self._m2 = m2\n",
    "        self._m3 = m3\n",
    "    \n",
    "    def mdisplay(self):\n",
    "        print(\"Marks of three subjects are: \")\n",
    "        print(self._m1,self._m2,self._m3)\n",
    "\n",
    "class Result(Student,Marks):\n",
    "    Total = 0\n",
    "    def __init__(self,r,n,m1,m2,m3,sm):\n",
    "        Student.__init__(self,r,n)\n",
    "        Marks.__init__(self,m1,m2,m3)\n",
    "        self._sm =sm\n",
    "        \n",
    "    def rdisplay(self):\n",
    "        print(\"sport marks are :\")\n",
    "        print(self._sm)\n",
    "        Total = self._m1+self._m2+self._m3+self._sm\n",
    "        print(f'Total marks are: {Total}')\n",
    "        "
   ]
  },
  {
   "cell_type": "code",
   "execution_count": 129,
   "metadata": {},
   "outputs": [],
   "source": [
    "r1 = Result(1,\"parag\",70,80,90,15)"
   ]
  },
  {
   "cell_type": "code",
   "execution_count": 130,
   "metadata": {},
   "outputs": [
    {
     "name": "stdout",
     "output_type": "stream",
     "text": [
      "1 parag\n"
     ]
    }
   ],
   "source": [
    "r1.sdisplay()"
   ]
  },
  {
   "cell_type": "code",
   "execution_count": 131,
   "metadata": {},
   "outputs": [
    {
     "name": "stdout",
     "output_type": "stream",
     "text": [
      "Marks of three subjects are: \n",
      "70 80 90\n"
     ]
    }
   ],
   "source": [
    "r1.mdisplay()"
   ]
  },
  {
   "cell_type": "code",
   "execution_count": 132,
   "metadata": {},
   "outputs": [
    {
     "name": "stdout",
     "output_type": "stream",
     "text": [
      "sport marks are :\n",
      "15\n",
      "Total marks are: 255\n"
     ]
    }
   ],
   "source": [
    "r1.rdisplay()"
   ]
  },
  {
   "cell_type": "code",
   "execution_count": 133,
   "metadata": {},
   "outputs": [
    {
     "data": {
      "text/plain": [
       "['Total',\n",
       " '__class__',\n",
       " '__delattr__',\n",
       " '__dict__',\n",
       " '__dir__',\n",
       " '__doc__',\n",
       " '__eq__',\n",
       " '__format__',\n",
       " '__ge__',\n",
       " '__getattribute__',\n",
       " '__gt__',\n",
       " '__hash__',\n",
       " '__init__',\n",
       " '__init_subclass__',\n",
       " '__le__',\n",
       " '__lt__',\n",
       " '__module__',\n",
       " '__ne__',\n",
       " '__new__',\n",
       " '__reduce__',\n",
       " '__reduce_ex__',\n",
       " '__repr__',\n",
       " '__setattr__',\n",
       " '__sizeof__',\n",
       " '__str__',\n",
       " '__subclasshook__',\n",
       " '__weakref__',\n",
       " '_m1',\n",
       " '_m2',\n",
       " '_m3',\n",
       " '_name',\n",
       " '_rollno',\n",
       " '_sm',\n",
       " 'mdisplay',\n",
       " 'rdisplay',\n",
       " 'sdisplay']"
      ]
     },
     "execution_count": 133,
     "metadata": {},
     "output_type": "execute_result"
    }
   ],
   "source": [
    "dir(r1)"
   ]
  },
  {
   "cell_type": "markdown",
   "metadata": {},
   "source": [
    "# Hierarchical Inheritance"
   ]
  },
  {
   "cell_type": "markdown",
   "metadata": {},
   "source": [
    "Hierarchical Inheritance: When more than one derived classes are created from a single base this type of inheritance is called hierarchical inheritance."
   ]
  },
  {
   "cell_type": "markdown",
   "metadata": {},
   "source": [
    "![](3.png)"
   ]
  },
  {
   "cell_type": "code",
   "execution_count": 134,
   "metadata": {},
   "outputs": [],
   "source": [
    "class employee:\n",
    "    def __init__(self,name ,age , empno):\n",
    "        self.__name = name\n",
    "        self.__age = age\n",
    "        self.__empno = empno\n",
    "        \n",
    "    def display(self):\n",
    "        print(\"Name age and employee number are employee is :\")\n",
    "        print(self.__name,self.__age,self.__empno)\n",
    "\n",
    "class DailyWager(employee):\n",
    "    def __init__(self,name,age,empno,bs):\n",
    "        super().__init__(name,age,empno)\n",
    "        self.__bs = bs\n",
    "        \n",
    "    def ddisplay(self):\n",
    "        self.display()\n",
    "        print(\"basic salary employee is: \")\n",
    "        print(self.__bs)\n",
    "\n",
    "class WeeklyWager(employee):\n",
    "    def __init__(self,name,age,empno,bs):\n",
    "        super().__init__(name,age,empno)\n",
    "        self.__bs = bs * 7\n",
    "        \n",
    "    def wdisplay(self):\n",
    "        self.display()\n",
    "        print(\"basic salary employee is: \")\n",
    "        print(self.__bs)"
   ]
  },
  {
   "cell_type": "code",
   "execution_count": 135,
   "metadata": {},
   "outputs": [],
   "source": [
    "d1 = DailyWager(\"Karan\",25,1,1000)"
   ]
  },
  {
   "cell_type": "code",
   "execution_count": 136,
   "metadata": {},
   "outputs": [],
   "source": [
    "w1 = WeeklyWager(\"Arjun\",30,2,7000)"
   ]
  },
  {
   "cell_type": "code",
   "execution_count": 137,
   "metadata": {},
   "outputs": [
    {
     "name": "stdout",
     "output_type": "stream",
     "text": [
      "Name age and employee number are employee is :\n",
      "Karan 25 1\n",
      "basic salary employee is: \n",
      "1000\n"
     ]
    }
   ],
   "source": [
    "d1.ddisplay()"
   ]
  },
  {
   "cell_type": "code",
   "execution_count": 138,
   "metadata": {},
   "outputs": [
    {
     "name": "stdout",
     "output_type": "stream",
     "text": [
      "Name age and employee number are employee is :\n",
      "Arjun 30 2\n",
      "basic salary employee is: \n",
      "49000\n"
     ]
    }
   ],
   "source": [
    "w1.wdisplay()"
   ]
  },
  {
   "cell_type": "markdown",
   "metadata": {},
   "source": [
    "# Hybrid Inheritance "
   ]
  },
  {
   "cell_type": "markdown",
   "metadata": {},
   "source": [
    " Inheritance consisting of multiple types of inheritance is called hybrid inheritance."
   ]
  },
  {
   "cell_type": "markdown",
   "metadata": {},
   "source": [
    "![](4.png)"
   ]
  },
  {
   "cell_type": "markdown",
   "metadata": {},
   "source": [
    "## Method Resolution Order"
   ]
  },
  {
   "cell_type": "markdown",
   "metadata": {},
   "source": [
    "The Python Method Resolution Order defines the class search path used by Python to search for the right method to use in classes having multi-inheritance."
   ]
  },
  {
   "cell_type": "markdown",
   "metadata": {},
   "source": [
    "## Dimond Problem"
   ]
  },
  {
   "cell_type": "markdown",
   "metadata": {},
   "source": [
    "The \"diamond problem\" is the generally used term for an ambiguity that arises when two classes B and C inherit from a superclass A, and another class D inherits from both B and C."
   ]
  },
  {
   "cell_type": "markdown",
   "metadata": {},
   "source": [
    "## How to Access Methods of Different classes in derived class"
   ]
  },
  {
   "cell_type": "markdown",
   "metadata": {},
   "source": [
    "Using Base class Name .(dot) and the method name with self parameter directly in dirived class."
   ]
  },
  {
   "cell_type": "code",
   "execution_count": 139,
   "metadata": {},
   "outputs": [],
   "source": [
    "class A:\n",
    "    def show(self):\n",
    "        print(\"show funtion from base class\")\n",
    "        \n",
    "class B(A):\n",
    "    def show(self):\n",
    "        print(\"show function from class B which inherts A\") \n",
    "        \n",
    "class C(A):\n",
    "    def show(self):\n",
    "        print(\"show function of class C which has inherited A \")\n",
    "         \n",
    "class D(C,B):\n",
    "    def show(self):\n",
    "        A.show(self)\n",
    "        B.show(self)\n",
    "        C.show(self)\n",
    "        print(\"show method of derived class\")"
   ]
  },
  {
   "cell_type": "code",
   "execution_count": 140,
   "metadata": {},
   "outputs": [],
   "source": [
    "d1 = D()"
   ]
  },
  {
   "cell_type": "code",
   "execution_count": 141,
   "metadata": {},
   "outputs": [
    {
     "name": "stdout",
     "output_type": "stream",
     "text": [
      "show funtion from base class\n",
      "show function from class B which inherts A\n",
      "show function of class C which has inherited A \n",
      "show method of derived class\n"
     ]
    }
   ],
   "source": [
    "d1.show()"
   ]
  },
  {
   "cell_type": "markdown",
   "metadata": {},
   "source": [
    "# Abstraction"
   ]
  },
  {
   "cell_type": "markdown",
   "metadata": {},
   "source": [
    "- Abstraction focuses on hiding the internal implementations of a process or method from the user. "
   ]
  },
  {
   "cell_type": "code",
   "execution_count": 142,
   "metadata": {},
   "outputs": [],
   "source": [
    "class Data:\n",
    "    def __init__(self,num1,num2):\n",
    "        self.__num1 = num1\n",
    "        self.__num2 = num2\n",
    "        \n",
    "    def add(self):\n",
    "        return (self.__num1+self.__num2)\n",
    "    \n",
    "    def display(self):\n",
    "        print(f\"Addition of {self.__num1} and {self.__num2} is : {self.add()}\")"
   ]
  },
  {
   "cell_type": "code",
   "execution_count": 143,
   "metadata": {},
   "outputs": [],
   "source": [
    "d = Data(10,20)"
   ]
  },
  {
   "cell_type": "code",
   "execution_count": 144,
   "metadata": {},
   "outputs": [
    {
     "name": "stdout",
     "output_type": "stream",
     "text": [
      "30\n"
     ]
    }
   ],
   "source": [
    "print(d.add())"
   ]
  },
  {
   "cell_type": "code",
   "execution_count": 145,
   "metadata": {},
   "outputs": [
    {
     "name": "stdout",
     "output_type": "stream",
     "text": [
      "Addition of 10 and 20 is : 30\n"
     ]
    }
   ],
   "source": [
    "d.display()"
   ]
  },
  {
   "cell_type": "markdown",
   "metadata": {},
   "source": [
    "# Abstract Class "
   ]
  },
  {
   "cell_type": "markdown",
   "metadata": {},
   "source": [
    "- A class which contains one or more abstract methods is called an abstract class. "
   ]
  },
  {
   "cell_type": "markdown",
   "metadata": {},
   "source": [
    "# Abstract Method"
   ]
  },
  {
   "cell_type": "markdown",
   "metadata": {},
   "source": [
    "- An abstract method is a method that has a declaration but does not have an implementation."
   ]
  },
  {
   "cell_type": "markdown",
   "metadata": {},
   "source": [
    "- Abstract classes may not be instantiated, and its abstract methods must be implemented by its subclasses."
   ]
  },
  {
   "cell_type": "code",
   "execution_count": 146,
   "metadata": {},
   "outputs": [],
   "source": [
    "from abc import ABC,abstractmethod\n",
    "\n",
    "class Shape(ABC):\n",
    "    @abstractmethod\n",
    "    def Area(self):\n",
    "        pass\n",
    "    \n",
    "    def dispaly(self):\n",
    "        print(\"non abstract method\")\n",
    "    \n",
    "class Rectangle(Shape):\n",
    "    def __init__(self,l,b):\n",
    "        self.l = l\n",
    "        self.b = b\n",
    "        \n",
    "    def Area(self):\n",
    "        return(self.l * self.b)\n",
    "    \n",
    "class Circle(Shape):\n",
    "    def __init__(self,r):\n",
    "        self.r = r \n",
    "        \n",
    "    def Area(self):\n",
    "        return(3.142 * self.r * self.r )"
   ]
  },
  {
   "cell_type": "code",
   "execution_count": 147,
   "metadata": {},
   "outputs": [
    {
     "ename": "TypeError",
     "evalue": "Can't instantiate abstract class Shape with abstract methods Area",
     "output_type": "error",
     "traceback": [
      "\u001b[1;31m---------------------------------------------------------------------------\u001b[0m",
      "\u001b[1;31mTypeError\u001b[0m                                 Traceback (most recent call last)",
      "\u001b[1;32m<ipython-input-147-6dece774b18e>\u001b[0m in \u001b[0;36m<module>\u001b[1;34m\u001b[0m\n\u001b[1;32m----> 1\u001b[1;33m \u001b[0ms1\u001b[0m \u001b[1;33m=\u001b[0m \u001b[0mShape\u001b[0m\u001b[1;33m(\u001b[0m\u001b[1;33m)\u001b[0m\u001b[1;33m\u001b[0m\u001b[1;33m\u001b[0m\u001b[0m\n\u001b[0m",
      "\u001b[1;31mTypeError\u001b[0m: Can't instantiate abstract class Shape with abstract methods Area"
     ]
    }
   ],
   "source": [
    "s1 = Shape()"
   ]
  },
  {
   "cell_type": "code",
   "execution_count": 148,
   "metadata": {},
   "outputs": [],
   "source": [
    "r1 = Rectangle(100,200)"
   ]
  },
  {
   "cell_type": "code",
   "execution_count": 149,
   "metadata": {},
   "outputs": [
    {
     "data": {
      "text/plain": [
       "20000"
      ]
     },
     "execution_count": 149,
     "metadata": {},
     "output_type": "execute_result"
    }
   ],
   "source": [
    "r1.Area()"
   ]
  },
  {
   "cell_type": "code",
   "execution_count": 150,
   "metadata": {},
   "outputs": [
    {
     "name": "stdout",
     "output_type": "stream",
     "text": [
      "non abstract method\n"
     ]
    }
   ],
   "source": [
    "r1.dispaly() "
   ]
  },
  {
   "cell_type": "code",
   "execution_count": 151,
   "metadata": {},
   "outputs": [],
   "source": [
    "c1 = Circle(10)"
   ]
  },
  {
   "cell_type": "code",
   "execution_count": 152,
   "metadata": {},
   "outputs": [
    {
     "data": {
      "text/plain": [
       "314.2"
      ]
     },
     "execution_count": 152,
     "metadata": {},
     "output_type": "execute_result"
    }
   ],
   "source": [
    "c1.Area()"
   ]
  },
  {
   "cell_type": "markdown",
   "metadata": {},
   "source": [
    "# Polymorphism in Python"
   ]
  },
  {
   "cell_type": "markdown",
   "metadata": {},
   "source": [
    "- ploymorphism means takeing many forms.\n",
    "- Same enitity gives different output at different times."
   ]
  },
  {
   "cell_type": "markdown",
   "metadata": {},
   "source": [
    "## example : - fuction polymorphism"
   ]
  },
  {
   "cell_type": "code",
   "execution_count": 153,
   "metadata": {},
   "outputs": [
    {
     "name": "stdout",
     "output_type": "stream",
     "text": [
      "18\n",
      "5\n",
      "2\n"
     ]
    }
   ],
   "source": [
    "print(len(\"python programming\"))\n",
    "print(len([1,2,3,4,5]))\n",
    "print(len({\"one\":1,\"two\":2}))"
   ]
  },
  {
   "cell_type": "markdown",
   "metadata": {},
   "source": [
    "As the datatype changes output of len function also changes therefore polymorphic."
   ]
  },
  {
   "cell_type": "markdown",
   "metadata": {},
   "source": [
    "## example :- operator polymorphism"
   ]
  },
  {
   "cell_type": "code",
   "execution_count": 154,
   "metadata": {},
   "outputs": [
    {
     "name": "stdout",
     "output_type": "stream",
     "text": [
      "30\n",
      "object-OrientedConcepts\n"
     ]
    }
   ],
   "source": [
    "num1 = 10\n",
    "num2 = 20\n",
    "num3 = num1 + num2\n",
    "print(num3)\n",
    "\n",
    "str1 = \"object-Oriented\"\n",
    "str2 = \"Concepts\"\n",
    "str3 = str1 + str2\n",
    "print(str3)"
   ]
  },
  {
   "cell_type": "markdown",
   "metadata": {},
   "source": [
    "As the data type changes output of operator + changes.\n",
    "Same operator produces different output at different times hence polymorphic."
   ]
  },
  {
   "cell_type": "markdown",
   "metadata": {},
   "source": [
    "## Example :- polymorphism while inheritance (method overriding)"
   ]
  },
  {
   "cell_type": "code",
   "execution_count": 155,
   "metadata": {},
   "outputs": [],
   "source": [
    "class A:\n",
    "    def show(self):\n",
    "        print(\"show funtion from base class\")\n",
    "        \n",
    "class B(A):\n",
    "    def show(self):\n",
    "        print(\"show function from class B which inherts A\") \n",
    "        \n",
    "class C(A):\n",
    "    def show(self):\n",
    "        print(\"show function of class C which has inherited A \")\n",
    "         \n",
    "class D(C,B):\n",
    "    def show(self):\n",
    "        A.show(self)\n",
    "        B.show(self)\n",
    "        C.show(self)\n",
    "        print(\"show method of derived class\")"
   ]
  },
  {
   "cell_type": "code",
   "execution_count": 156,
   "metadata": {},
   "outputs": [
    {
     "name": "stdout",
     "output_type": "stream",
     "text": [
      "show funtion from base class\n",
      "show function from class B which inherts A\n",
      "show function of class C which has inherited A \n",
      "show method of derived class\n"
     ]
    }
   ],
   "source": [
    "d1 = D()\n",
    "d1.show()"
   ]
  },
  {
   "cell_type": "code",
   "execution_count": 157,
   "metadata": {},
   "outputs": [
    {
     "name": "stdout",
     "output_type": "stream",
     "text": [
      "show function of class C which has inherited A \n"
     ]
    }
   ],
   "source": [
    "c1 = C()\n",
    "c1.show()"
   ]
  },
  {
   "cell_type": "markdown",
   "metadata": {},
   "source": [
    "Note:-  python doesnt support method overloading i.e. functions with same name and different prototypes."
   ]
  },
  {
   "cell_type": "markdown",
   "metadata": {},
   "source": [
    "## example :- polymorphism with class Methods"
   ]
  },
  {
   "cell_type": "code",
   "execution_count": 158,
   "metadata": {},
   "outputs": [],
   "source": [
    "class A:\n",
    "    def display(self):\n",
    "        print(\"Method in class A\")\n",
    "        \n",
    "class B:\n",
    "    def display(self):\n",
    "        print(\"Method in class B\")"
   ]
  },
  {
   "cell_type": "code",
   "execution_count": 159,
   "metadata": {},
   "outputs": [],
   "source": [
    "obja = A()"
   ]
  },
  {
   "cell_type": "code",
   "execution_count": 160,
   "metadata": {},
   "outputs": [],
   "source": [
    "objb = B() "
   ]
  },
  {
   "cell_type": "code",
   "execution_count": 161,
   "metadata": {},
   "outputs": [
    {
     "name": "stdout",
     "output_type": "stream",
     "text": [
      "Method in class A\n",
      "Method in class B\n"
     ]
    }
   ],
   "source": [
    "for obj in (obja, objb): \n",
    "    obj.display() "
   ]
  }
 ],
 "metadata": {
  "kernelspec": {
   "display_name": "Python 3",
   "language": "python",
   "name": "python3"
  },
  "language_info": {
   "codemirror_mode": {
    "name": "ipython",
    "version": 3
   },
   "file_extension": ".py",
   "mimetype": "text/x-python",
   "name": "python",
   "nbconvert_exporter": "python",
   "pygments_lexer": "ipython3",
   "version": "3.7.4"
  },
  "toc": {
   "base_numbering": 1,
   "nav_menu": {},
   "number_sections": true,
   "sideBar": true,
   "skip_h1_title": false,
   "title_cell": "Table of Contents",
   "title_sidebar": "Object-Oriented Programming Using Python",
   "toc_cell": true,
   "toc_position": {},
   "toc_section_display": true,
   "toc_window_display": true
  }
 },
 "nbformat": 4,
 "nbformat_minor": 2
}
